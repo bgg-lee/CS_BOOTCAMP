{
 "cells": [
  {
   "cell_type": "markdown",
   "id": "42be00f1",
   "metadata": {},
   "source": [
    "## Practice 1. Deepest Leaves Sum\n",
    "Given the root of a binary tree, return the sum of values of its deepest leaves."
   ]
  },
  {
   "cell_type": "code",
   "execution_count": 1,
   "id": "eb16dcfb",
   "metadata": {
    "id": "cf726f29"
   },
   "outputs": [],
   "source": [
    "# TreeNode Definition for Binary Tree\n",
    "class TreeNode:\n",
    "    def __init__(self, val=0, left=None, right=None):\n",
    "        self.val = val\n",
    "        self.left = left\n",
    "        self.right = right"
   ]
  },
  {
   "cell_type": "code",
   "execution_count": 2,
   "id": "30262737",
   "metadata": {},
   "outputs": [],
   "source": [
    "# Tree Construction\n",
    "root = TreeNode(1)\n",
    "root.left = TreeNode(2)\n",
    "root.right = TreeNode(3)\n",
    "root.left.left = TreeNode(4)\n",
    "root.left.right = TreeNode(5)\n",
    "root.right.left = None\n",
    "root.right.right = TreeNode(6)\n",
    "root.left.left.left = TreeNode(7)\n",
    "root.left.left.right = None\n",
    "root.left.right.left = None\n",
    "root.left.right.right = None\n",
    "root.right.right.left = None\n",
    "root.right.right.right = TreeNode(8)"
   ]
  },
  {
   "cell_type": "code",
   "execution_count": 3,
   "id": "e525e98c",
   "metadata": {},
   "outputs": [],
   "source": [
    "class Tree(): #와나 답지 봄...ㅠㅠ\n",
    "    def __init__(self, root: TreeNode) -> None:\n",
    "        self.root = root\n",
    "    def deepestLeavesSum(self) -> None:\n",
    "        from collections import deque\n",
    "        \n",
    "        if not self.root : return\n",
    "        lst = deque()\n",
    "        lst.append(self.root) # or lst = deque([self.root])\n",
    "        ans = 0\n",
    "        \n",
    "        while lst :\n",
    "            lv_sum = 0\n",
    "            for i in range(len(lst)):\n",
    "                curr = lst.popleft()\n",
    "                lv_sum += curr.val\n",
    "                \n",
    "                if curr.left :\n",
    "                    lst.append(curr.left)\n",
    "                if curr.right :\n",
    "                    lst.append(curr.right)\n",
    "            ans = lv_sum\n",
    "        return ans\n",
    "    \n",
    "\n",
    "#     def deepestLeavesSum(self) -> None:\n",
    "#         if not self.root : return\n",
    "#         lst = [self.root]\n",
    "#         ans = 0\n",
    "        \n",
    "#         while lst :\n",
    "#             lv_sum = 0\n",
    "#             for i in range(len(lst)):\n",
    "#                 curr = lst.pop(0)\n",
    "#                 lv_sum += curr.val\n",
    "                \n",
    "#                 if curr.left :\n",
    "#                     lst.append(curr.left)\n",
    "#                 if curr.right :\n",
    "#                     lst.append(curr.right)\n",
    "#             ans = lv_sum\n",
    "#         return ans \n",
    "\n"
   ]
  },
  {
   "cell_type": "code",
   "execution_count": 4,
   "id": "2907386b",
   "metadata": {},
   "outputs": [
    {
     "data": {
      "text/plain": [
       "15"
      ]
     },
     "execution_count": 4,
     "metadata": {},
     "output_type": "execute_result"
    }
   ],
   "source": [
    "# Create a tree\n",
    "myTree = Tree(root)\n",
    "\n",
    "# Execute preorder DFT\n",
    "myTree.deepestLeavesSum()"
   ]
  },
  {
   "cell_type": "markdown",
   "id": "59b87d01",
   "metadata": {
    "id": "59b87d01"
   },
   "source": [
    "## Practice2. Binary Search Tree Implementation\n",
    "Implement a binary search tree that has the following three methods:\n",
    "- search method\n",
    "- insert method\n",
    "- delete method  \n",
    "\n",
    "First two methods are provided for you, so implement only the delete method.\n",
    "<br> Complete the deleteHelp, and findMax function.\n",
    "<br> Most BST problems make use of recursion, so recover your memory from class!  \n",
    "  \n",
    "  \n",
    "- (1) Base case – case that returns a variable or constant value\n",
    "- (2) Recursive case – case that uses the function being defined or another function again"
   ]
  },
  {
   "cell_type": "code",
   "execution_count": 5,
   "id": "ebe04ab2",
   "metadata": {
    "id": "ebe04ab2"
   },
   "outputs": [],
   "source": [
    "class TreeNode():\n",
    "    def __init__(self, x:int):\n",
    "        self.val = x\n",
    "        self.left = None\n",
    "        self.right = None"
   ]
  },
  {
   "cell_type": "code",
   "execution_count": 6,
   "id": "ae8b144f",
   "metadata": {
    "id": "ae8b144f"
   },
   "outputs": [],
   "source": [
    "class BST():\n",
    "    def __init__(self, root:TreeNode) -> None:\n",
    "        self.root = root\n",
    "\n",
    "    def __searchHelp(self, curNode: TreeNode, x: int) -> TreeNode:\n",
    "        # (1) Base Case\n",
    "        if not curNode:\n",
    "            return None\n",
    "        if x == curNode.val:\n",
    "            return curNode\n",
    "\n",
    "        # (2) Recursive case\n",
    "        if x < curNode.val:\n",
    "            return self.__searchHelp(curNode.left, x)\n",
    "        else:\n",
    "            return self.__searchHelp(curNode.right, x)\n",
    "\n",
    "    def search(self, x:int) -> TreeNode:\n",
    "        return self.__searchHelp(self.root, x)\n",
    "\n",
    "    def __insertHelp(self, curNode: TreeNode, x: int) -> TreeNode:\n",
    "        # (1) Base Case\n",
    "        if not curNode:\n",
    "            return TreeNode(x)\n",
    "        if x == curNode.val:\n",
    "            return curNode\n",
    "\n",
    "        # (2) Recursive case\n",
    "        if x < curNode.val:\n",
    "            curNode.left = self.__insertHelp(curNode.left, x)\n",
    "        else:\n",
    "            curNode.right = self.__insertHelp(curNode.right, x)\n",
    "\n",
    "        return curNode\n",
    "\n",
    "    def insert(self, x: int) -> None:\n",
    "        self.root = self.__insertHelp(self.root, x)\n",
    "\n",
    "\n",
    "    # scan through subtree and return a new root (if necessary)\n",
    "    def __deleteHelp(self, curNode: TreeNode, x: int) -> TreeNode:\n",
    "        #Write your code here\n",
    "        if not curNode : return None\n",
    "        \n",
    "        if x > curNode.val :\n",
    "            curNode.right = self.__deleteHelp(curNode.right,x)\n",
    "        elif x < curNode.val :\n",
    "            curNode.left = self.__deleteHelp(curNode.left,x)\n",
    "        else : #find the target value\n",
    "            # case 1, Node with 0 or 1 child\n",
    "            if not curNode.left :\n",
    "                return curNode.right\n",
    "            elif not curNode.right :\n",
    "                return curNode.left\n",
    "            \n",
    "            # case 2, with 2 children\n",
    "            else :\n",
    "                # find left-most-right value of curNode\n",
    "                temp = curNode.left\n",
    "                while temp.right:\n",
    "                    temp = temp.right\n",
    "                # Swap temp val with curNode\n",
    "                curNode.val = temp.val\n",
    "                \n",
    "                # Delete temp\n",
    "                curNode.left = self.__deleteHelp(curNode.left,temp.val)\n",
    "                return curNode\n",
    "                \n",
    "        return curNode\n",
    "        \n",
    "\n",
    "    def delete(self, x: int) -> None:\n",
    "        self.root = self.__deleteHelp(self.root, x)"
   ]
  },
  {
   "cell_type": "code",
   "execution_count": 7,
   "id": "0a9150fa",
   "metadata": {
    "id": "0a9150fa"
   },
   "outputs": [],
   "source": [
    "tree1 = TreeNode(1)\n",
    "tree2 = TreeNode(2)\n",
    "tree3 = TreeNode(3)\n",
    "tree4 = TreeNode(4)\n",
    "tree5 = TreeNode(5)\n",
    "tree6 = TreeNode(6)\n",
    "tree7 = TreeNode(7)\n",
    "\n",
    "tree4.left = tree2\n",
    "tree4.right = tree6\n",
    "\n",
    "tree2.left = tree1\n",
    "tree2.right = tree3\n",
    "\n",
    "tree6.left = tree5\n",
    "tree6.right = tree7\n",
    "\n",
    "# Instance of class BST, setting node with value of 4 as its root\n",
    "myTree = BST(tree4)"
   ]
  },
  {
   "cell_type": "code",
   "execution_count": 8,
   "id": "6cea9279",
   "metadata": {
    "id": "6cea9279"
   },
   "outputs": [
    {
     "name": "stdout",
     "output_type": "stream",
     "text": [
      "<__main__.TreeNode object at 0x000001E8C38CFD90> 6\n"
     ]
    }
   ],
   "source": [
    "# Test search\n",
    "node = myTree.search(6)\n",
    "if node == None:\n",
    "    print(node)\n",
    "else:\n",
    "    print(node, node.val)"
   ]
  },
  {
   "cell_type": "code",
   "execution_count": 9,
   "id": "67ba23b1",
   "metadata": {
    "id": "ef27f9a3"
   },
   "outputs": [
    {
     "name": "stdout",
     "output_type": "stream",
     "text": [
      "<__main__.TreeNode object at 0x000001E8C392BAD0> 8\n"
     ]
    }
   ],
   "source": [
    "# Test insert\n",
    "myTree.insert(8)\n",
    "node = myTree.search(8)\n",
    "if node == None:\n",
    "    print(node)\n",
    "else:\n",
    "    print(node, node.val)"
   ]
  },
  {
   "cell_type": "code",
   "execution_count": 10,
   "id": "74d9af2b",
   "metadata": {
    "id": "9d2c1318",
    "scrolled": true
   },
   "outputs": [
    {
     "name": "stdout",
     "output_type": "stream",
     "text": [
      "root: 4\n",
      "new root: 3\n"
     ]
    }
   ],
   "source": [
    "# Test delete - 1\n",
    "print(\"root:\", myTree.root.val)\n",
    "myTree.delete(4)\n",
    "print(\"new root:\", myTree.root.val)"
   ]
  },
  {
   "cell_type": "code",
   "execution_count": 11,
   "id": "85110cd6",
   "metadata": {
    "id": "85110cd6"
   },
   "outputs": [
    {
     "name": "stdout",
     "output_type": "stream",
     "text": [
      "Is there node with the value of 4?\n",
      "None\n"
     ]
    }
   ],
   "source": [
    "# Test delete - 2\n",
    "print(\"Is there node with the value of 4?\")\n",
    "node = myTree.search(4)\n",
    "if node == None:\n",
    "    print(node)\n",
    "else:\n",
    "    print(node, node.val)"
   ]
  },
  {
   "cell_type": "code",
   "execution_count": 12,
   "id": "b349d9fb",
   "metadata": {
    "id": "dfddbb82"
   },
   "outputs": [
    {
     "name": "stdout",
     "output_type": "stream",
     "text": [
      "Is there node with the value of 3?\n",
      "<__main__.TreeNode object at 0x000001E8C38CF250> 3\n"
     ]
    }
   ],
   "source": [
    "# Test delete - 3\n",
    "print(\"Is there node with the value of 3?\")\n",
    "node = myTree.search(3)\n",
    "if node == None:\n",
    "    print(node)\n",
    "else:\n",
    "    print(node, node.val)"
   ]
  },
  {
   "cell_type": "code",
   "execution_count": 13,
   "id": "477d693e",
   "metadata": {
    "id": "477d693e"
   },
   "outputs": [
    {
     "name": "stdout",
     "output_type": "stream",
     "text": [
      "2\n",
      "6\n"
     ]
    }
   ],
   "source": [
    "# Test delete - 4\n",
    "print(myTree.root.left.val)\n",
    "print(myTree.root.right.val)"
   ]
  },
  {
   "cell_type": "markdown",
   "id": "fa57dae7",
   "metadata": {},
   "source": [
    "## In-class Exercise\n",
    "Q2. Sum of subtree in BST"
   ]
  },
  {
   "cell_type": "markdown",
   "id": "b7f32c9c",
   "metadata": {},
   "source": [
    "Complete a function that returns sum of all the BST node values within the range [low, high]. Here make use of recursion as well!\n",
    "- Each node of BST is defined by TreeNode class, which is defined in BST_Helper.py file. printTree() Method returns a list of all nodes in the tree.\n",
    "- Input: Root Node of BST, low, high\n",
    "- Each node values are unique in the BST.\n",
    "- To test if your function is correct, use create_linked_bst function defined in BST_Helper.py file. It creates a BST with an input of integer list, and returns the root node. The input list has to be in a certain sequence: first element is the value of the root node, second is the value of left node of the root, third is the value of right node of the root, ... Also, if there is no node input None.\n"
   ]
  },
  {
   "cell_type": "markdown",
   "id": "02abce28",
   "metadata": {},
   "source": [
    "- You should not use the method of summing up the values in a list, without using the characteristic of BST. To prevent this, the input may be given to you in a way that the condition of BST child is violated. Originally, current node's left value has to be smaller than current value, while the right value has to be bigger than current value. Here, we do not apply this rule to grand children. For example, BST below may be given to you. 9 is smaller than 10 but it is located at the right subtree of node with value 9. Refer to example 1 and 2 for the calculation of these kind of BSTs.\n"
   ]
  },
  {
   "cell_type": "markdown",
   "id": "2dd6ea95",
   "metadata": {},
   "source": [
    "Ex1) root = create_linked_bst([10,5,15,3,7, 9, 18]); P1(root, 3, 9)\n",
    "- output: 15\n",
    "- explanation: 3,5,7 is within the range, so it returns the sum of 15. Numerically, 9 is within the range too, but when we search BST, 9 is the maximum value within the range, thus we only scan through the left subtree of the root.\n",
    "\n",
    "Ex2) root = create_linked_bst([10,5,15,3,7, 9, 18]); P1(root, 3, 15)\n",
    "- output: 49\n",
    "- explanation: 3, 5, 7, 9, 10, 15 is within the range, so it returns the sum of 49. The maximum value within the range is 15 and it's bigger than the root node value. Thus, we should search both left and right subtrees, and 9 should be included in the sum.\n",
    "\n",
    "Ex3) root = create_linked_bst ([10,5,15,3,7,13,18,1,None,6]); P1(root, 6, 10)\n",
    "- output: 23\n",
    "- explanation: 6, 7, 10 is within the range, so it should return the sum of 23."
   ]
  },
  {
   "cell_type": "markdown",
   "id": "5cf64452",
   "metadata": {},
   "source": [
    "### 솔직히 문제가 뭔 소린지 모르겠음"
   ]
  },
  {
   "cell_type": "code",
   "execution_count": 17,
   "id": "9193cf40",
   "metadata": {},
   "outputs": [],
   "source": [
    "# IN BST_Helper file.. for your reference\n",
    "#Helper functions: DO NOT MODIFY!!\n",
    "# Definition for TreeNode.\n",
    "class TreeNode:\n",
    "    def __init__(self, val=0, left=None, right=None):\n",
    "        self.val = val\n",
    "        self.left = left\n",
    "        self.right = right\n",
    "    def printTree(self) -> list:\n",
    "        result = list()\n",
    "        thislevel = [self]\n",
    "        while thislevel:\n",
    "            nextlevel = list()\n",
    "            none_list=1\n",
    "            for n in thislevel:\n",
    "                if n !=None:\n",
    "                    none_list=0\n",
    "                    break\n",
    "            if none_list==1:\n",
    "                return result\n",
    "                        \n",
    "            for n in thislevel:\n",
    "                if n != None: \n",
    "                    result.append(n.val)\n",
    "                    nextlevel.append(n.left)\n",
    "                    nextlevel.append(n.right)\n",
    "                else:\n",
    "                    result.append(None)\n",
    "                    nextlevel.append(None)\n",
    "                    nextlevel.append(None)\n",
    "                    \n",
    "            thislevel = nextlevel\n",
    "        return result\n",
    "\n",
    "#Create a BST from a list, then return root node\n",
    "from collections import deque\n",
    "\n",
    "def create_linked_bst(arr: list) -> TreeNode:\n",
    "    if len(arr) < 1: return None\n",
    "    n = iter(arr)\n",
    "    tree = TreeNode(next(n))\n",
    "    fringe = deque([tree])\n",
    "    while True:\n",
    "        head = fringe.popleft()\n",
    "        try:\n",
    "            l = next(n)\n",
    "            head.left = TreeNode(l) if l != None else None\n",
    "            fringe.append(head.left)\n",
    "            r = next(n)\n",
    "            head.right = TreeNode(r) if r != None else None\n",
    "            fringe.append(head.right)\n",
    "        except StopIteration:\n",
    "            break\n",
    "    return tree\n"
   ]
  },
  {
   "cell_type": "code",
   "execution_count": 28,
   "id": "a65fe4a7",
   "metadata": {},
   "outputs": [],
   "source": [
    "import BST_Helper\n",
    "from BST_Helper import *"
   ]
  },
  {
   "cell_type": "code",
   "execution_count": 48,
   "id": "916e1aeb",
   "metadata": {},
   "outputs": [],
   "source": [
    "def P1(root: TreeNode, low: int, high: int) -> int:\n",
    "    ### Write you code here ###\n",
    "    ans = 0\n",
    "    if not root :\n",
    "        return 0\n",
    "    else:\n",
    "        if low <= root.val <= high :\n",
    "            ans += root.val + P1(root.left,low,high) + P1(root.right,low,high)\n",
    "        elif root.val < low :\n",
    "            ans += P1(root.right,low,high)\n",
    "        else :\n",
    "            ans += P1(root.left,low,high)\n",
    "    \n",
    "    return ans\n",
    "    \n",
    "    ### End of your code ###"
   ]
  },
  {
   "cell_type": "code",
   "execution_count": 49,
   "id": "cf915791",
   "metadata": {},
   "outputs": [
    {
     "data": {
      "text/plain": [
       "15"
      ]
     },
     "execution_count": 49,
     "metadata": {},
     "output_type": "execute_result"
    }
   ],
   "source": [
    "root = create_linked_bst([10,5,15,3,7, 9, 18])\n",
    "P1(root, 3, 9) #15\n",
    "# print(P1(root, 3, 9))\n",
    "# print(root)"
   ]
  },
  {
   "cell_type": "code",
   "execution_count": 50,
   "id": "9f432ab0",
   "metadata": {},
   "outputs": [
    {
     "data": {
      "text/plain": [
       "49"
      ]
     },
     "execution_count": 50,
     "metadata": {},
     "output_type": "execute_result"
    }
   ],
   "source": [
    "root = create_linked_bst([10,5,15,3,7, 9, 18])\n",
    "P1(root, 3, 15) #49"
   ]
  },
  {
   "cell_type": "code",
   "execution_count": 51,
   "id": "0c1eaaf4",
   "metadata": {},
   "outputs": [
    {
     "data": {
      "text/plain": [
       "23"
      ]
     },
     "execution_count": 51,
     "metadata": {},
     "output_type": "execute_result"
    }
   ],
   "source": [
    "root = create_linked_bst ([10,5,15,3,7,13,18,1,None,6])\n",
    "P1(root, 6, 10) #23"
   ]
  }
 ],
 "metadata": {
  "colab": {
   "provenance": []
  },
  "kernelspec": {
   "display_name": "Python 3 (ipykernel)",
   "language": "python",
   "name": "python3"
  },
  "language_info": {
   "codemirror_mode": {
    "name": "ipython",
    "version": 3
   },
   "file_extension": ".py",
   "mimetype": "text/x-python",
   "name": "python",
   "nbconvert_exporter": "python",
   "pygments_lexer": "ipython3",
   "version": "3.11.5"
  }
 },
 "nbformat": 4,
 "nbformat_minor": 5
}
