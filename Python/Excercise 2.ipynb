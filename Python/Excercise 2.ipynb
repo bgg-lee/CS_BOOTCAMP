{
 "cells": [
  {
   "cell_type": "markdown",
   "id": "d0cc364a",
   "metadata": {},
   "source": [
    "## Practice 2\n",
    "## Functions, Memory model, Function design\n",
    "## Practice 2.1 Quotient and remainder\n",
    "### Create a function for calculating the quotient and remainder"
   ]
  },
  {
   "cell_type": "code",
   "execution_count": 7,
   "id": "23580e42",
   "metadata": {},
   "outputs": [],
   "source": [
    "#몫과 나머지를 반환하는 함수를 만들어라\n",
    "\n",
    "def cal(x:int, y:int) -> int :\n",
    "    if x>y:\n",
    "        quotient = x//y\n",
    "        remainder = x%y\n",
    "        print(\"몫: \", quotient,\"나머지: \",remainder)\n",
    "    else:\n",
    "        quotient = y//x\n",
    "        remainder = y%x\n",
    "        print(\"몫: \", quotient,\"나머지: \",remainder)"
   ]
  },
  {
   "cell_type": "code",
   "execution_count": 8,
   "id": "b3cfe4f8",
   "metadata": {},
   "outputs": [
    {
     "name": "stdout",
     "output_type": "stream",
     "text": [
      "몫:  26 나머지:  0\n"
     ]
    }
   ],
   "source": [
    "cal(3,78)"
   ]
  },
  {
   "cell_type": "code",
   "execution_count": 9,
   "id": "d12b4d65",
   "metadata": {},
   "outputs": [
    {
     "name": "stdout",
     "output_type": "stream",
     "text": [
      "몫:  2 나머지:  9\n"
     ]
    }
   ],
   "source": [
    "cal(56,121)"
   ]
  },
  {
   "cell_type": "code",
   "execution_count": 10,
   "id": "afc071d9",
   "metadata": {},
   "outputs": [
    {
     "name": "stdout",
     "output_type": "stream",
     "text": [
      "몫:  383 나머지:  4\n"
     ]
    }
   ],
   "source": [
    "cal(1919,5)"
   ]
  },
  {
   "cell_type": "code",
   "execution_count": 11,
   "id": "70c12a24",
   "metadata": {},
   "outputs": [
    {
     "name": "stdout",
     "output_type": "stream",
     "text": [
      "몫:  5 나머지:  0\n"
     ]
    }
   ],
   "source": [
    "cal(5,1)"
   ]
  },
  {
   "cell_type": "markdown",
   "id": "94741456",
   "metadata": {},
   "source": [
    "### Practice 2.2 Number of diagonals in a polygon\n",
    "#### Create a function for calculating the Number of diagonals in a polygon"
   ]
  },
  {
   "cell_type": "code",
   "execution_count": 23,
   "id": "414d9690",
   "metadata": {},
   "outputs": [],
   "source": [
    "def cal2(x:int) -> int :\n",
    "    if x<=3:return 0\n",
    "    else:\n",
    "        diag = (x-3)*x/2\n",
    "        return int(diag)"
   ]
  },
  {
   "cell_type": "code",
   "execution_count": 26,
   "id": "d382f2c9",
   "metadata": {},
   "outputs": [
    {
     "name": "stdout",
     "output_type": "stream",
     "text": [
      "0 0 5 20 27 35\n"
     ]
    }
   ],
   "source": [
    "print(cal2(2),cal2(3),cal2(5),cal2(8),cal2(9),cal2(10))"
   ]
  },
  {
   "cell_type": "code",
   "execution_count": 27,
   "id": "b633e4f8",
   "metadata": {},
   "outputs": [
    {
     "data": {
      "text/plain": [
       "2"
      ]
     },
     "execution_count": 27,
     "metadata": {},
     "output_type": "execute_result"
    }
   ],
   "source": [
    "cal2(4)"
   ]
  }
 ],
 "metadata": {
  "kernelspec": {
   "display_name": "Python 3 (ipykernel)",
   "language": "python",
   "name": "python3"
  },
  "language_info": {
   "codemirror_mode": {
    "name": "ipython",
    "version": 3
   },
   "file_extension": ".py",
   "mimetype": "text/x-python",
   "name": "python",
   "nbconvert_exporter": "python",
   "pygments_lexer": "ipython3",
   "version": "3.11.5"
  }
 },
 "nbformat": 4,
 "nbformat_minor": 5
}
