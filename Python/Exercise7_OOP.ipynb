{
 "cells": [
  {
   "cell_type": "code",
   "execution_count": 34,
   "metadata": {},
   "outputs": [],
   "source": [
    "class Member:\n",
    "    def __init__(self, name: str, address: str, email: str, DoB: str, affiliation: str) -> None:\n",
    "        self.name = name\n",
    "        self.address = address\n",
    "        self.email = email\n",
    "        self.DoB = DoB\n",
    "        self.affiliation = affiliation\n",
    "        self.infoList = [self.name, self.address, self.email, self.DoB, self.affiliation]\n",
    "    \n",
    "    def printInfo(self): \n",
    "        print(self.infoList)\n",
    "        \n",
    "    def switch_affiliation(self, new_affiliation: str):\n",
    "        print(\"Member\", self.name, \"changes affiliation from\", self.affiliation, \"to\", new_affiliation)\n",
    "        self.affiliation = new_affiliation\n",
    "        "
   ]
  },
  {
   "cell_type": "code",
   "execution_count": 35,
   "metadata": {},
   "outputs": [],
   "source": [
    "class Student(Member):\n",
    "    def __init__(self, name: str, address: str, email: str, DoB: str, affiliation: str, student_num: str) -> None:\n",
    "        # super를 사용하여 부모 클래스에 접근 가능 \n",
    "        super().__init__(name, address, email, DoB, affiliation)\n",
    "        self.student_num = student_num\n",
    "        self.advisor = \"\"\n",
    "        self.courses_taken = []\n",
    "        self.courses_taking = []\n",
    "        self.GPA = 0\n",
    "        self.infoList += [self.student_num, self.advisor, self.courses_taken, self.courses_taking, self.GPA]\n",
    "        \n",
    "    def switch_affiliation(self, new_affiliation: str):\n",
    "        print(\"Student\", self.name, \"changes affiliation from\", self.affiliation, \"to\", new_affiliation) \n",
    "        self.affiliation = new_affiliation\n",
    "        "
   ]
  },
  {
   "cell_type": "code",
   "execution_count": 36,
   "metadata": {},
   "outputs": [],
   "source": [
    "class Faculty(Member):\n",
    "    def __init__(self, name: str, address: str, email: str, DoB: str, affiliation: str, faculty_num: str) -> None:\n",
    "        super().__init__(name, address, email, DoB, affiliation)\n",
    "        self.faculty_num = faculty_num\n",
    "        self.advisees = []\n",
    "        self.courses_teaching = []\n",
    "        self.infoList += [self.faculty_num, self.advisees, self.courses_teaching]\n",
    "        \n",
    "    def switch_affiliation(self, new_affiliation: str):\n",
    "        print(\"Faculty\", self.name, \"changes affiliation from\", self.affiliation, \"to\", new_affiliation) \n",
    "        self.affiliation = new_affiliation\n",
    "        "
   ]
  },
  {
   "cell_type": "markdown",
   "metadata": {},
   "source": [
    "# Making a Class Object"
   ]
  },
  {
   "cell_type": "code",
   "execution_count": 37,
   "metadata": {},
   "outputs": [],
   "source": [
    "hyungsin = Faculty(\"Hyung-Sin Kim\", \"my addr\", \"my email\", \"my DoB\",\"Data Science\", \"my faculty_num\")"
   ]
  },
  {
   "cell_type": "code",
   "execution_count": 38,
   "metadata": {},
   "outputs": [
    {
     "data": {
      "text/plain": [
       "__main__.Faculty"
      ]
     },
     "execution_count": 38,
     "metadata": {},
     "output_type": "execute_result"
    }
   ],
   "source": [
    "type(hyungsin)"
   ]
  },
  {
   "cell_type": "code",
   "execution_count": 39,
   "metadata": {
    "scrolled": true
   },
   "outputs": [
    {
     "data": {
      "text/plain": [
       "True"
      ]
     },
     "execution_count": 39,
     "metadata": {},
     "output_type": "execute_result"
    }
   ],
   "source": [
    "type(hyungsin) == Faculty"
   ]
  },
  {
   "cell_type": "code",
   "execution_count": 46,
   "metadata": {},
   "outputs": [],
   "source": [
    "jeongmoon = Student('Jeongmoon Won', 'Gwacheon', \n",
    "                    'jmwon06231@snu.ac.kr', '970623', \n",
    "                    'Education', '2021-26359')"
   ]
  },
  {
   "cell_type": "markdown",
   "metadata": {},
   "source": [
    "# Testing inheritance"
   ]
  },
  {
   "cell_type": "code",
   "execution_count": 47,
   "metadata": {},
   "outputs": [
    {
     "name": "stdout",
     "output_type": "stream",
     "text": [
      "['Hyung-Sin Kim', 'my addr', 'my email', 'my DoB', 'Data Science', 'my faculty_num', [], []]\n"
     ]
    }
   ],
   "source": [
    "hyungsin.printInfo()"
   ]
  },
  {
   "cell_type": "code",
   "execution_count": 48,
   "metadata": {
    "scrolled": true
   },
   "outputs": [
    {
     "name": "stdout",
     "output_type": "stream",
     "text": [
      "['Jeongmoon Won', 'Gwacheon', 'jmwon06231@snu.ac.kr', '970623', 'Education', '2021-26359', '', [], [], 0]\n"
     ]
    }
   ],
   "source": [
    "jeongmoon.printInfo()"
   ]
  },
  {
   "cell_type": "markdown",
   "metadata": {},
   "source": [
    "# Testing Polymorphism"
   ]
  },
  {
   "cell_type": "code",
   "execution_count": 49,
   "metadata": {},
   "outputs": [
    {
     "name": "stdout",
     "output_type": "stream",
     "text": [
      "Student Jeongmoon Won changes affiliation from Education to Data Science\n"
     ]
    }
   ],
   "source": [
    "jeongmoon.switch_affiliation('Data Science')"
   ]
  },
  {
   "cell_type": "code",
   "execution_count": 50,
   "metadata": {
    "scrolled": true
   },
   "outputs": [
    {
     "name": "stdout",
     "output_type": "stream",
     "text": [
      "Faculty Hyung-Sin Kim changes affiliation from CS to CS\n"
     ]
    }
   ],
   "source": [
    "hyungsin.switch_affiliation('CS')"
   ]
  },
  {
   "cell_type": "markdown",
   "metadata": {},
   "source": [
    "# Cartesian Plane"
   ]
  },
  {
   "cell_type": "code",
   "execution_count": 77,
   "metadata": {},
   "outputs": [],
   "source": [
    "import math\n",
    "\n",
    "class Point:\n",
    "    def __init__(self, a, b):\n",
    "        self.a = a\n",
    "        self.b = b\n",
    "\n",
    "        \n",
    "class Line(Point):\n",
    "    def __init__(self, p1, p2):\n",
    "        self.p1 = p1\n",
    "        self.p2 = p2\n",
    "    \n",
    "    def slope(self):\n",
    "        dx = self.p1.a - self.p2.a\n",
    "        dy = self.p1.b - self.p2.b\n",
    "        return dy/dx\n",
    "    \n",
    "    def length(self):\n",
    "        x2 = (self.p1.a - self.p2.a)*(self.p1.a - self.p2.a)\n",
    "        y2 = (self.p1.b - self.p2.b)*(self.p1.b - self.p2.b)\n",
    "        return math.sqrt(x2+y2)"
   ]
  },
  {
   "cell_type": "code",
   "execution_count": 78,
   "metadata": {},
   "outputs": [],
   "source": [
    "line = Line(Point(1, 1), Point(3, 2)) # a line comprised of two 2D points"
   ]
  },
  {
   "cell_type": "code",
   "execution_count": 79,
   "metadata": {},
   "outputs": [
    {
     "data": {
      "text/plain": [
       "0.5"
      ]
     },
     "execution_count": 79,
     "metadata": {},
     "output_type": "execute_result"
    }
   ],
   "source": [
    "line.slope()"
   ]
  },
  {
   "cell_type": "code",
   "execution_count": 80,
   "metadata": {},
   "outputs": [
    {
     "data": {
      "text/plain": [
       "2.23606797749979"
      ]
     },
     "execution_count": 80,
     "metadata": {},
     "output_type": "execute_result"
    }
   ],
   "source": [
    "line.length()"
   ]
  }
 ],
 "metadata": {
  "kernelspec": {
   "display_name": "Python 3",
   "language": "python",
   "name": "python3"
  },
  "language_info": {
   "codemirror_mode": {
    "name": "ipython",
    "version": 3
   },
   "file_extension": ".py",
   "mimetype": "text/x-python",
   "name": "python",
   "nbconvert_exporter": "python",
   "pygments_lexer": "ipython3",
   "version": "3.8.3"
  }
 },
 "nbformat": 4,
 "nbformat_minor": 4
}
