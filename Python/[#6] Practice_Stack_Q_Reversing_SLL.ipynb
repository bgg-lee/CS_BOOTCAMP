{
 "cells": [
  {
   "cell_type": "markdown",
   "metadata": {
    "id": "I9FM6s1o9ZUc"
   },
   "source": [
    "# Practice 6 : Linked List Implementation"
   ]
  },
  {
   "cell_type": "markdown",
   "metadata": {
    "id": "pz0rVpAR9ZUf"
   },
   "source": [
    "## Q1.Stack"
   ]
  },
  {
   "cell_type": "markdown",
   "metadata": {},
   "source": [
    "### Implement Stack by using single-linked list of LInkedNodes ###"
   ]
  },
  {
   "cell_type": "markdown",
   "metadata": {
    "id": "q9INvpLR9ZUf"
   },
   "source": [
    "myStack Class Methods:  \n",
    "* push(x): Add a LinkedNode that has val x to myStack  \n",
    "* pop: Remove the most recently added LinkedNode from myStack  \n",
    "* top: Return val of the most recently added LinkedNode  \n",
    "* getSize: Return the number of LinkedNodes in myStack  \n",
    "* isEmpty: Return True if myStack is empty, or False otherwise.\n",
    "* clear: Remove all LinkedNodes\n",
    "* status_check: prints status of stack"
   ]
  },
  {
   "cell_type": "code",
   "execution_count": 37,
   "metadata": {
    "id": "a2xIR4I69ZUg",
    "tags": []
   },
   "outputs": [],
   "source": [
    "class LinkedNode():\n",
    "    def __init__(self,x):\n",
    "        self.val = x\n",
    "        self.next = None\n",
    "\n",
    "class myStack():\n",
    "    def __init__(self)->None:\n",
    "        self.sentinel = LinkedNode(0)\n",
    "        self.size = 0\n",
    "\n",
    "    def push(self, x:int)->None:\n",
    "        ##### Write your Code Here #####\n",
    "        \n",
    "        newNode = LinkedNode(x)\n",
    "        self.size += 1\n",
    "        \n",
    "        newNode.next = self.sentinel.next\n",
    "        self.sentinel.next = newNode\n",
    "        \n",
    "        ################################\n",
    "\n",
    "    def pop(self)->None:\n",
    "        ##### Write your Code Here #####\n",
    "        \n",
    "        if self.size == 0 : return\n",
    "        elif self.size ==1 :\n",
    "            self.sentinel.next = None\n",
    "            self.size -= 1\n",
    "            return\n",
    "        # 메로리 관리차원에서 아예 None으로 없애주자\n",
    "        temp = self.sentinel.next\n",
    "        self.sentinel.next = self.sentinel.next.next\n",
    "        temp = None\n",
    "        self.size -=1\n",
    "        return\n",
    "        \n",
    "        ################################\n",
    "\n",
    "    def top(self)->int:\n",
    "        ##### Write your Code Here #####\n",
    "        if not self.sentinel.next: return None\n",
    "        \n",
    "        return self.sentinel.next.val\n",
    "        ################################\n",
    "\n",
    "    def getSize(self)->int:\n",
    "        ##### Write your Code Here #####\n",
    "        return self.size\n",
    "        ################################\n",
    "\n",
    "    def isEmpty(self)->bool:\n",
    "        ##### Write your Code Here #####\n",
    "        return self.size == 0\n",
    "        ################################\n",
    "    \n",
    "    def clear(self)->None:\n",
    "        ##### Write your Code Here #####\n",
    "        \n",
    "        while self.size != 0 :\n",
    "            self.pop()\n",
    "        \n",
    "        ################################\n",
    "        \n",
    "    def status_check(self) -> None:\n",
    "        #Do not modify\n",
    "        if self.isEmpty():\n",
    "            print(\"IsEmpty:\",self.isEmpty(), \" | Size:\", self.getSize(),\"| Top:\", self.top())\n",
    "        else:\n",
    "            print(\"IsEmpty:\",self.isEmpty(), \"| Size:\", self.getSize(),\"| Top:\", self.top())"
   ]
  },
  {
   "cell_type": "code",
   "execution_count": 38,
   "metadata": {
    "id": "YRjWz5ls9ZUh",
    "tags": []
   },
   "outputs": [
    {
     "name": "stdout",
     "output_type": "stream",
     "text": [
      "Pushed 5, 7, 10\n",
      "IsEmpty: False | Size: 3 | Top: 10\n",
      "Popped\n",
      "IsEmpty: False | Size: 2 | Top: 7\n",
      "Clear\n",
      "IsEmpty: True  | Size: 0 | Top: None\n",
      "Pushed 10\n",
      "IsEmpty: False | Size: 1 | Top: 10\n"
     ]
    }
   ],
   "source": [
    "# Test code for given cases; run without modification\n",
    "\n",
    "s = myStack()\n",
    "print(\"Pushed 5, 7, 10\")\n",
    "s.push(5)\n",
    "s.push(7)\n",
    "s.push(10)\n",
    "s.status_check()\n",
    "print(\"Popped\")\n",
    "s.pop()\n",
    "s.status_check()\n",
    "print(\"Clear\")\n",
    "s.clear()\n",
    "s.status_check()\n",
    "print(\"Pushed 10\")\n",
    "s.push(10)\n",
    "s.status_check()"
   ]
  },
  {
   "cell_type": "markdown",
   "metadata": {},
   "source": [
    "## Q1-2.Queue"
   ]
  },
  {
   "cell_type": "code",
   "execution_count": 39,
   "metadata": {},
   "outputs": [],
   "source": [
    "class LinkedNode():\n",
    "    def __init__(self,x):\n",
    "        self.val = x\n",
    "        self.next = None\n",
    "\n",
    "class myQueue():\n",
    "    def __init__(self)->None:\n",
    "        self.sentinel = LinkedNode(0)\n",
    "        self.size = 0\n",
    "\n",
    "    def enque(self, x:int)->None:\n",
    "        ##### Write your Code Here #####\n",
    "        newNode = LinkedNode(x)\n",
    "        self.size +=1\n",
    "        \n",
    "        temp = self.sentinel\n",
    "        \n",
    "        while temp.next :\n",
    "            temp = temp.next\n",
    "        \n",
    "        temp.next = newNode\n",
    "        \n",
    "        ################################\n",
    "\n",
    "    def deque(self)->None:\n",
    "        ##### Write your Code Here #####\n",
    "        \n",
    "        if not self.sentinel.next : return None\n",
    "        \n",
    "        temp = self.sentinel.next\n",
    "        self.sentinel.next = self.sentinel.next.next\n",
    "        temp = None\n",
    "        self.size -=1\n",
    "        \n",
    "        return\n",
    "        ################################\n",
    "\n",
    "    def last(self)->int:\n",
    "        ##### Write your Code Here #####\n",
    "        \n",
    "        if self.isEmpty() : return None\n",
    "        temp = self.sentinel\n",
    "        while temp.next:\n",
    "            temp = temp.next\n",
    "        return temp.val\n",
    "        \n",
    "        ################################\n",
    "\n",
    "    def getSize(self)->int:\n",
    "        ##### Write your Code Here #####\n",
    "        return self.size\n",
    "        ################################\n",
    "\n",
    "    def isEmpty(self)->bool:\n",
    "        ##### Write your Code Here #####\n",
    "        return self.size == 0\n",
    "        ################################"
   ]
  },
  {
   "cell_type": "code",
   "execution_count": 40,
   "metadata": {},
   "outputs": [
    {
     "data": {
      "text/plain": [
       "(False, 2, 20)"
      ]
     },
     "execution_count": 40,
     "metadata": {},
     "output_type": "execute_result"
    }
   ],
   "source": [
    "s = myQueue()\n",
    "s.enque(10)\n",
    "s.enque(20)\n",
    "s.isEmpty(), s.getSize(), s.last()"
   ]
  },
  {
   "cell_type": "code",
   "execution_count": 41,
   "metadata": {},
   "outputs": [
    {
     "data": {
      "text/plain": [
       "20"
      ]
     },
     "execution_count": 41,
     "metadata": {},
     "output_type": "execute_result"
    }
   ],
   "source": [
    "s.sentinel.next.next.val"
   ]
  },
  {
   "cell_type": "code",
   "execution_count": 42,
   "metadata": {},
   "outputs": [
    {
     "name": "stdout",
     "output_type": "stream",
     "text": [
      "False 1 20\n"
     ]
    }
   ],
   "source": [
    "s.deque()\n",
    "print(s.isEmpty(), s.getSize(), s.last())"
   ]
  },
  {
   "cell_type": "code",
   "execution_count": 43,
   "metadata": {},
   "outputs": [
    {
     "data": {
      "text/plain": [
       "20"
      ]
     },
     "execution_count": 43,
     "metadata": {},
     "output_type": "execute_result"
    }
   ],
   "source": [
    "s.sentinel.next.val"
   ]
  },
  {
   "cell_type": "markdown",
   "metadata": {
    "id": "YMPHMl5J9ZUi"
   },
   "source": [
    "## Q2. Reversing SLL"
   ]
  },
  {
   "cell_type": "markdown",
   "metadata": {
    "id": "sgdBwNQo9ZUi"
   },
   "source": [
    "※ Space complexity should be O(1)  \n",
    "(Generating new LinkedLists or lists is not allowed)"
   ]
  },
  {
   "cell_type": "code",
   "execution_count": 32,
   "metadata": {
    "id": "ciRBsqcR9ZUj"
   },
   "outputs": [],
   "source": [
    "class ListNode:\n",
    "    def __init__(self, val=0, next=None):\n",
    "        self.val = val\n",
    "        self.next = next\n",
    "        \n",
    "# converting list form into a singly linked list\n",
    "def create_linked_list(l: list) -> ListNode:\n",
    "    if len(l) == 0:\n",
    "        return None\n",
    "    start = ListNode(l[0])\n",
    "    current_node = start\n",
    "    for i in range(1,len(l)):\n",
    "        node_new = ListNode(l[i])\n",
    "        current_node.next = node_new\n",
    "        current_node = node_new\n",
    "    return start\n",
    "\n",
    "# printing linked-list in form of a list\n",
    "def print_linked_list(n: ListNode, l: list) -> None:\n",
    "    if n is not None:\n",
    "        l.append(n.val)\n",
    "        print_linked_list(n.next, l)\n",
    "    else:\n",
    "        print(l)\n",
    "\n",
    "def reverse_SSL(head: ListNode) -> ListNode: ## GG 답지봄 ㅠ\n",
    "    ##### Write your Code Here #####\n",
    "    if not head : return None\n",
    "    \n",
    "    prev = None\n",
    "    next = None\n",
    "    curr = head\n",
    "    \n",
    "    while curr != None :\n",
    "        # next를 저장\n",
    "        next = curr.next\n",
    "        \n",
    "        # next Pointer 바꾸기\n",
    "        curr.next = prev\n",
    "        \n",
    "        # prev 저장\n",
    "        prev = curr\n",
    "        \n",
    "        # curr Node 이동\n",
    "        curr = next\n",
    "    \n",
    "    return prev\n",
    "\n",
    "    ##### End of your Code #####"
   ]
  },
  {
   "cell_type": "code",
   "execution_count": 33,
   "metadata": {
    "colab": {
     "base_uri": "https://localhost:8080/"
    },
    "executionInfo": {
     "elapsed": 374,
     "status": "ok",
     "timestamp": 1696245135408,
     "user": {
      "displayName": "­정지혜 / 학생 / 데이터사이언스학과",
      "userId": "18385305302286132298"
     },
     "user_tz": -540
    },
    "id": "W0IY8Azn9ZUj",
    "outputId": "afcea17a-b7fb-4554-f7fc-dbdefd968387"
   },
   "outputs": [
    {
     "name": "stdout",
     "output_type": "stream",
     "text": [
      "[7, 6, 5, 4, 3, 2, 1]\n",
      "[]\n"
     ]
    }
   ],
   "source": [
    "# Test code for given cases; run without modification\n",
    "\n",
    "l1 =  create_linked_list([1,2,3,4,5,6,7]) \n",
    "l2 =  create_linked_list([])\n",
    "print_linked_list(reverse_SSL(l1),[])\n",
    "print_linked_list(reverse_SSL(l2),[])"
   ]
  },
  {
   "cell_type": "code",
   "execution_count": 34,
   "metadata": {},
   "outputs": [
    {
     "name": "stdout",
     "output_type": "stream",
     "text": [
      "[3, 1, 2, 4]\n"
     ]
    }
   ],
   "source": [
    "l1 =  create_linked_list([4,2,1,3])\n",
    "print_linked_list(reverse_SSL(l1),[])"
   ]
  },
  {
   "cell_type": "code",
   "execution_count": null,
   "metadata": {},
   "outputs": [],
   "source": []
  }
 ],
 "metadata": {
  "colab": {
   "provenance": []
  },
  "kernelspec": {
   "display_name": "Python 3 (ipykernel)",
   "language": "python",
   "name": "python3"
  },
  "language_info": {
   "codemirror_mode": {
    "name": "ipython",
    "version": 3
   },
   "file_extension": ".py",
   "mimetype": "text/x-python",
   "name": "python",
   "nbconvert_exporter": "python",
   "pygments_lexer": "ipython3",
   "version": "3.11.5"
  },
  "vscode": {
   "interpreter": {
    "hash": "e31f0f46eebab55a29f0e124b1401c6335879e1da13c450265b689861a18de2a"
   }
  }
 },
 "nbformat": 4,
 "nbformat_minor": 1
}
