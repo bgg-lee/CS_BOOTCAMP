{
 "cells": [
  {
   "cell_type": "markdown",
   "id": "5afbb11d-76ac-46e5-99f8-1f190f89ad09",
   "metadata": {},
   "source": [
    "## BFT (Breadth-first Traversal)\n",
    "\n",
    "### Implement BFT for graph\n",
    "*  implementation of a graph given"
   ]
  },
  {
   "cell_type": "code",
   "execution_count": 33,
   "id": "efe2a389-a274-4f1c-9c60-5c261410f123",
   "metadata": {},
   "outputs": [],
   "source": [
    "from collections import deque\n",
    "\n",
    "class undi_graph():\n",
    "    def __init__(self, V: list, E:list) -> None :\n",
    "        self.V = V[:]\n",
    "        self.neighbors = {}\n",
    "\n",
    "        for v in V:\n",
    "            self.neighbors[v] = []\n",
    "\n",
    "        for(v,w) in E:\n",
    "            self.neighbors[v].append(w)\n",
    "            self.neighbors[w].append(v)\n",
    "#     def BFT(self) -> None : # 조교님 ver\n",
    "#         if self.V : \n",
    "#             visited = {}\n",
    "#             #######################################\n",
    "#             # write your code \n",
    "#             for v in self.V: \n",
    "#                 visited[v] = False\n",
    "                \n",
    "#             q = deque([])  \n",
    "            \n",
    "#             for v in self.V: \n",
    "#                 q.append(v)\n",
    "#                 while q: \n",
    "#                     curNode = q.popleft()  # 젤 왼쪽 빼주기\n",
    "#                     if not visited[curNode]:\n",
    "#                         print(curNode, end=' ')\n",
    "#                         visited[curNode] = True\n",
    "#                         for neighbor in self.neighbors[curNode]:\n",
    "#                             q.append(neighbor)\n",
    "#             #######################################    \n",
    "\n",
    "#     def BFT(self) -> None :\n",
    "#         if self.V : \n",
    "#             visited = {}\n",
    "#             #######################################\n",
    "#             q = deque()\n",
    "    \n",
    "#             for v in self.V:            \n",
    "#                 if v not in visited :\n",
    "#                     visited[v] = True\n",
    "#                     print(v,end=\" \")\n",
    "#                     for n in self.neighbors[v]:\n",
    "#                         q.append(n)\n",
    "#                 while q:\n",
    "#                     curr = q.popleft()\n",
    "#                     if curr not in visited:\n",
    "#                         visited[curr] = True\n",
    "#                         print(curr,end=\" \")\n",
    "#                         for x in self.neighbors[curr]:\n",
    "#                             q.append(x)\n",
    "\n",
    "#             #######################################\n",
    "         \n",
    "    def BFT(self) -> None : # Retry\n",
    "        if self.V : \n",
    "            visited = {}\n",
    "            \n",
    "            q = deque()\n",
    "            \n",
    "            for v in self.V:\n",
    "                q.append(v)\n",
    "                while q:\n",
    "                    curr = q.popleft()\n",
    "                    if curr not in visited:\n",
    "                        visited[curr] = True\n",
    "                        print(curr,end=\" \")\n",
    "                        for n in self.neighbors[curr]:\n",
    "                            q.append(n)"
   ]
  },
  {
   "cell_type": "code",
   "execution_count": 34,
   "id": "cbc2fb65",
   "metadata": {},
   "outputs": [
    {
     "name": "stdout",
     "output_type": "stream",
     "text": [
      "0 1 4 5 6 7 9 8 2 3 "
     ]
    }
   ],
   "source": [
    "V = [0,1,2,3,4,5,6,7,8,9]\n",
    "E = [(0,1),(1,4),(1,5),(2,3),(4,6),(5,6),(5,7),(6,9),(7,8)]\n",
    "\n",
    "graph = undi_graph(V,E)\n",
    "graph.BFT()"
   ]
  },
  {
   "cell_type": "markdown",
   "id": "310de503",
   "metadata": {},
   "source": [
    "## Practice 2. Social Media\n",
    "\n",
    "In some social media platforms, there are members numbered from 1 to n, and friend relationships can be represented as tuples.\n",
    "For example, (1, 2) indicates that member 1 and member 2 are friends.\n",
    "Therefore, friend relationships can be represented as a graph. \n",
    "In this context, let's define a cluster as all members connected through friend relationships.\n",
    "\n",
    "* Implement a function called \"cluster\" that returns the number of members in the cluster to which member 1 belongs."
   ]
  },
  {
   "cell_type": "code",
   "execution_count": 82,
   "id": "3cb8b1e7",
   "metadata": {},
   "outputs": [],
   "source": [
    "from collections import deque # My solution\n",
    "\n",
    "def socialMedia(total: int, relations: list) -> int:\n",
    "    #######################################\n",
    "    # write your code\n",
    "    \n",
    "    neighbors = {}\n",
    "    # initialize neighbor list\n",
    "    for i in range(1,total+1):\n",
    "        neighbors[i] = []\n",
    "        \n",
    "    for (x,w) in relations :\n",
    "        neighbors[x].append(w)\n",
    "        neighbors[w].append(x)\n",
    "        \n",
    "    # 1이 아예 없는 경우 return 0\n",
    "    if not neighbors[1]:\n",
    "        return 0\n",
    "    \n",
    "    # BFT in graph based on \"1\"\n",
    "    visited = []\n",
    "    q = deque([1])\n",
    "    ans = 0\n",
    "    \n",
    "    while q:\n",
    "        curr = q.popleft()\n",
    "        if curr not in visited :\n",
    "            visited.append(curr)\n",
    "            ans += 1\n",
    "            for n in neighbors[curr]:\n",
    "                q.append(n)\n",
    "    \n",
    "    return ans\n",
    "    #########################################"
   ]
  },
  {
   "cell_type": "code",
   "execution_count": 87,
   "id": "df28ffc3",
   "metadata": {},
   "outputs": [],
   "source": [
    "from collections import deque # 조교님 풀이. 난해하다..\n",
    "\n",
    "def socialMedia(total: int, relations: list) -> int:\n",
    "    #######################################\n",
    "    # write your code\n",
    "    adjMatrix = [[False for _ in range(total+1)] for _ in range(total+1)]\n",
    "    contacted = [False for _ in range(total+1)]\n",
    "    \n",
    "    for relation in relations:\n",
    "        m1, m2 = relation\n",
    "        adjMatrix[m1][m2] = True\n",
    "        adjMatrix[m2][m1] = True\n",
    "        \n",
    "    q = deque([1])\n",
    "    while q:\n",
    "        curr = q.popleft()\n",
    "        contacted[curr] = True\n",
    "        for i in range(total+1):\n",
    "            if adjMatrix[curr][i] and not contacted[i] and i not in q:\n",
    "                q.append(i)\n",
    "                \n",
    "    return sum(contacted)\n",
    "    #########################################"
   ]
  },
  {
   "cell_type": "code",
   "execution_count": 88,
   "id": "d97bf250",
   "metadata": {},
   "outputs": [
    {
     "data": {
      "text/plain": [
       "2"
      ]
     },
     "execution_count": 88,
     "metadata": {},
     "output_type": "execute_result"
    }
   ],
   "source": [
    "socialMedia(7, [(2,1), (5, 6),(3, 4)]) #2"
   ]
  },
  {
   "cell_type": "code",
   "execution_count": 89,
   "id": "8532f2b1",
   "metadata": {},
   "outputs": [
    {
     "data": {
      "text/plain": [
       "5"
      ]
     },
     "execution_count": 89,
     "metadata": {},
     "output_type": "execute_result"
    }
   ],
   "source": [
    "socialMedia(7, [(1, 2), (2,3), (1,5), (5, 2), (5, 6), (4, 7)]) #5"
   ]
  },
  {
   "cell_type": "code",
   "execution_count": 90,
   "id": "f90f0b29",
   "metadata": {},
   "outputs": [
    {
     "data": {
      "text/plain": [
       "2"
      ]
     },
     "execution_count": 90,
     "metadata": {},
     "output_type": "execute_result"
    }
   ],
   "source": [
    "socialMedia(4, [(1, 2), (2, 1), (3, 4)]) #2"
   ]
  },
  {
   "cell_type": "code",
   "execution_count": 91,
   "id": "913af38d",
   "metadata": {},
   "outputs": [
    {
     "data": {
      "text/plain": [
       "1"
      ]
     },
     "execution_count": 91,
     "metadata": {},
     "output_type": "execute_result"
    }
   ],
   "source": [
    "socialMedia(4, [(2, 3), (2, 4),(3, 4)]) #0"
   ]
  },
  {
   "cell_type": "code",
   "execution_count": null,
   "id": "6895f435",
   "metadata": {},
   "outputs": [],
   "source": []
  }
 ],
 "metadata": {
  "kernelspec": {
   "display_name": "Python 3 (ipykernel)",
   "language": "python",
   "name": "python3"
  },
  "language_info": {
   "codemirror_mode": {
    "name": "ipython",
    "version": 3
   },
   "file_extension": ".py",
   "mimetype": "text/x-python",
   "name": "python",
   "nbconvert_exporter": "python",
   "pygments_lexer": "ipython3",
   "version": "3.11.5"
  }
 },
 "nbformat": 4,
 "nbformat_minor": 5
}
