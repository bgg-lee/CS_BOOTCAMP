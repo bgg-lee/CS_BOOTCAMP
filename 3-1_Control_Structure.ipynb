{
 "cells": [
  {
   "cell_type": "code",
   "execution_count": null,
   "id": "3bc517e3",
   "metadata": {},
   "outputs": [],
   "source": [
    "'aa' in 'aa bb'"
   ]
  },
  {
   "cell_type": "code",
   "execution_count": null,
   "id": "e899eb28",
   "metadata": {},
   "outputs": [],
   "source": [
    "'' in '아나다라'"
   ]
  },
  {
   "cell_type": "code",
   "execution_count": null,
   "id": "dd8ca4d6",
   "metadata": {},
   "outputs": [],
   "source": [
    "time = input('Insert Time Value HH:MM =>')"
   ]
  },
  {
   "cell_type": "code",
   "execution_count": null,
   "id": "079567c7",
   "metadata": {},
   "outputs": [],
   "source": [
    "time"
   ]
  },
  {
   "cell_type": "code",
   "execution_count": null,
   "id": "71580665",
   "metadata": {
    "scrolled": true
   },
   "outputs": [],
   "source": [
    "type(time)"
   ]
  },
  {
   "cell_type": "code",
   "execution_count": null,
   "id": "5f3ffecc",
   "metadata": {},
   "outputs": [],
   "source": [
    "if time < '11:00':\n",
    "    print('Before Class')\n",
    "elif time < '12:15':\n",
    "    print('During Class')\n",
    "else :\n",
    "    print('After Class')"
   ]
  },
  {
   "cell_type": "code",
   "execution_count": null,
   "id": "51d2a5ac",
   "metadata": {},
   "outputs": [],
   "source": []
  },
  {
   "cell_type": "code",
   "execution_count": null,
   "id": "cc227828",
   "metadata": {},
   "outputs": [],
   "source": [
    "time2 = input()\n",
    "if time2 < '11:00':\n",
    "    print('Before Class')\n",
    "elif time2 < '12:15':\n",
    "    print('During Class')\n",
    "else :\n",
    "    print('After Class')\n",
    "time2"
   ]
  },
  {
   "cell_type": "code",
   "execution_count": 11,
   "id": "db438660",
   "metadata": {},
   "outputs": [
    {
     "name": "stdout",
     "output_type": "stream",
     "text": [
      "나이는:21\n",
      "BMI는:89\n"
     ]
    },
    {
     "data": {
      "text/plain": [
       "'low'"
      ]
     },
     "execution_count": 11,
     "metadata": {},
     "output_type": "execute_result"
    }
   ],
   "source": [
    "young=int(input('나이는:'))\n",
    "weight=int(input('BMI는:'))\n",
    "\n",
    "if young < 25 :\n",
    "    if weight<99.9 :\n",
    "        risk = 'low'\n",
    "    else :\n",
    "        risk = 'medium'\n",
    "else:\n",
    "    if weight<100:\n",
    "        risk = 'medium'\n",
    "    else :\n",
    "        risk = 'high'\n",
    "risk"
   ]
  },
  {
   "cell_type": "code",
   "execution_count": 4,
   "id": "9f124a96",
   "metadata": {},
   "outputs": [
    {
     "name": "stdout",
     "output_type": "stream",
     "text": [
      "55\n"
     ]
    },
    {
     "data": {
      "text/plain": [
       "False"
      ]
     },
     "execution_count": 4,
     "metadata": {},
     "output_type": "execute_result"
    }
   ],
   "source": [
    "print(weight)\n",
    "weight<'100'"
   ]
  },
  {
   "cell_type": "code",
   "execution_count": 5,
   "id": "8bdafe2f",
   "metadata": {},
   "outputs": [
    {
     "data": {
      "text/plain": [
       "True"
      ]
     },
     "execution_count": 5,
     "metadata": {},
     "output_type": "execute_result"
    }
   ],
   "source": [
    "weight>'100'"
   ]
  },
  {
   "cell_type": "code",
   "execution_count": null,
   "id": "815d55b5",
   "metadata": {},
   "outputs": [],
   "source": []
  }
 ],
 "metadata": {
  "kernelspec": {
   "display_name": "Python 3 (ipykernel)",
   "language": "python",
   "name": "python3"
  },
  "language_info": {
   "codemirror_mode": {
    "name": "ipython",
    "version": 3
   },
   "file_extension": ".py",
   "mimetype": "text/x-python",
   "name": "python",
   "nbconvert_exporter": "python",
   "pygments_lexer": "ipython3",
   "version": "3.11.5"
  }
 },
 "nbformat": 4,
 "nbformat_minor": 5
}
